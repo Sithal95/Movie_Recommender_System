{
 "cells": [
  {
   "cell_type": "code",
   "execution_count": 1,
   "metadata": {
    "collapsed": true
   },
   "outputs": [],
   "source": [
    "import pandas as pd\n",
    "import pickle\n",
    "import random\n",
    "from surprise import prediction_algorithms as pa\n",
    "from surprise import Dataset, Reader, GridSearch, accuracy, dump\n",
    "from surprise import evaluate, print_perf\n",
    "from sklearn.model_selection import train_test_split\n",
    "import time\n",
    "import matplotlib.pyplot as plt"
   ]
  },
  {
   "cell_type": "code",
   "execution_count": 2,
   "metadata": {
    "collapsed": true
   },
   "outputs": [],
   "source": [
    "data = pd.read_csv('./ml-100k/data.csv')\n",
    "df = pd.DataFrame(data)\n",
    "df.drop('timestamp', axis=1, inplace=True)\n",
    "reader = Reader(rating_scale=(1, 5))\n",
    "dataset = Dataset.load_from_df(df[['userId', 'movieId', 'rating']], reader)\n",
    "raw_ratings = dataset.raw_ratings\n",
    "random.shuffle(raw_ratings)\n",
    "threshold = int(.8 * len(raw_ratings))\n",
    "A_raw_ratings = raw_ratings[:threshold]\n",
    "B_raw_ratings = raw_ratings[threshold:]\n",
    "dataset.raw_ratings = A_raw_ratings\n",
    "dataset.split(n_folds=5)"
   ]
  },
  {
   "cell_type": "code",
   "execution_count": 3,
   "metadata": {},
   "outputs": [
    {
     "name": "stdout",
     "output_type": "stream",
     "text": [
      "-6\n",
      "RMSE: 0.9336\n",
      "MAE:  0.7354\n",
      "-1\n",
      "RMSE: 0.9411\n",
      "MAE:  0.7450\n",
      "-7\n",
      "RMSE: 0.9315\n",
      "MAE:  0.7347\n",
      "-1\n",
      "RMSE: 0.9374\n",
      "MAE:  0.7418\n",
      "-9\n",
      "RMSE: 1.2909\n",
      "MAE:  0.9846\n",
      "-2\n",
      "RMSE: 0.9380\n",
      "MAE:  0.7417\n",
      "-11\n",
      "RMSE: 1.9660\n",
      "MAE:  1.6096\n",
      "-2\n",
      "RMSE: 0.9361\n",
      "MAE:  0.7402\n",
      "-12\n",
      "RMSE: 1.2853\n",
      "MAE:  0.9873\n",
      "-2\n",
      "RMSE: 0.9346\n",
      "MAE:  0.7391\n",
      "-15\n",
      "RMSE: 2.2251\n",
      "MAE:  1.8606\n",
      "-3\n",
      "RMSE: 0.9350\n",
      "MAE:  0.7393\n",
      "-15\n",
      "RMSE: 1.2918\n",
      "MAE:  0.9800\n",
      "-2\n",
      "RMSE: 0.9342\n",
      "MAE:  0.7395\n",
      "-16\n",
      "RMSE: 1.5867\n",
      "MAE:  1.2432\n",
      "-3\n",
      "RMSE: 0.9348\n",
      "MAE:  0.7394\n",
      "-18\n",
      "RMSE: 1.3140\n",
      "MAE:  0.9990\n",
      "-3\n",
      "RMSE: 0.9323\n",
      "MAE:  0.7368\n",
      "-25\n",
      "RMSE: 1.4726\n",
      "MAE:  1.1308\n",
      "-3\n",
      "RMSE: 0.9327\n",
      "MAE:  0.7376\n"
     ]
    }
   ],
   "source": [
    "res = {}\n",
    "res['nmf'] = {}\n",
    "res['svd'] = {}\n",
    "\n",
    "latent_factors = [10,20,30,40,50,60,70,80,90,100]\n",
    "for lf in latent_factors:\n",
    "    \n",
    "    start_time = int(time.time())\n",
    "    trainset = dataset.build_full_trainset()\n",
    "    algo = pa.matrix_factorization.NMF(n_factors=lf, n_epochs=100, biased=True, reg_pu=0.05, reg_qi=0.05, reg_bu=0.05, reg_bi=0.05, lr_bu=0.001, lr_bi=0.001)\n",
    "    algo.train(trainset)\n",
    "    end_time = int(time.time())\n",
    "    print (start_time-end_time)\n",
    "    testset = dataset.construct_testset(B_raw_ratings)\n",
    "    predictions = algo.test(testset)\n",
    "    rmse = accuracy.rmse(predictions)\n",
    "    mae = accuracy.mae(predictions)\n",
    "    res['nmf'][lf] = (rmse,mae)\n",
    "    \n",
    "    start_time = int(time.time())\n",
    "    trainset = dataset.build_full_trainset()\n",
    "    algo = pa.matrix_factorization.SVD(n_factors=lf, n_epochs=20, reg_all=0.05, lr_all=0.005)\n",
    "    algo.train(trainset)\n",
    "    end_time = int(time.time())\n",
    "    print (start_time-end_time)\n",
    "    testset = dataset.construct_testset(B_raw_ratings)\n",
    "    predictions = algo.test(testset)\n",
    "    rmse = accuracy.rmse(predictions)\n",
    "    mae = accuracy.mae(predictions)\n",
    "    res['svd'][lf] = (rmse,mae)\n",
    "\n",
    "pickle.dump(res,open('./nmf_svd_factor_plot.dat','wb'))"
   ]
  },
  {
   "cell_type": "code",
   "execution_count": null,
   "metadata": {
    "collapsed": true
   },
   "outputs": [],
   "source": []
  }
 ],
 "metadata": {
  "kernelspec": {
   "display_name": "Personalization python",
   "language": "python",
   "name": "personalization"
  },
  "language_info": {
   "codemirror_mode": {
    "name": "ipython",
    "version": 2
   },
   "file_extension": ".py",
   "mimetype": "text/x-python",
   "name": "python",
   "nbconvert_exporter": "python",
   "pygments_lexer": "ipython2",
   "version": "2.7.14"
  }
 },
 "nbformat": 4,
 "nbformat_minor": 2
}
