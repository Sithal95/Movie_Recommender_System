{
 "cells": [
  {
   "cell_type": "code",
   "execution_count": 1,
   "metadata": {},
   "outputs": [],
   "source": [
    "import pickle"
   ]
  },
  {
   "cell_type": "code",
   "execution_count": 2,
   "metadata": {},
   "outputs": [],
   "source": [
    "f = open('prediction_final_train','r')\n",
    "f = f.readlines()"
   ]
  },
  {
   "cell_type": "code",
   "execution_count": 6,
   "metadata": {},
   "outputs": [],
   "source": [
    "baseline_values = {}\n",
    "for l in f:\n",
    "    user,item,est = l.strip().split(',')\n",
    "    if int(user) not in baseline_values:\n",
    "        baseline_values[int(user)] = {}\n",
    "    baseline_values[int(user)][int(item)] = float(est)"
   ]
  },
  {
   "cell_type": "code",
   "execution_count": 7,
   "metadata": {},
   "outputs": [],
   "source": [
    "f = open('final_train.csv')\n",
    "f = f.readlines()\n",
    "g = open('final_test.csv')\n",
    "g = g.readlines()"
   ]
  },
  {
   "cell_type": "code",
   "execution_count": 8,
   "metadata": {},
   "outputs": [],
   "source": [
    "a = open('bias_train.csv','w')\n",
    "for l in f:\n",
    "    user,item,rating = l.strip().split(',')\n",
    "    new_rating = float(rating)-baseline_values[int(user)][int(item)]\n",
    "    a.write(user+','+item+','+str(new_rating)+'\\n')\n",
    "a.close()"
   ]
  },
  {
   "cell_type": "code",
   "execution_count": 17,
   "metadata": {},
   "outputs": [],
   "source": [
    "f = open('test_prediction.csv','r')\n",
    "f = f.readlines()[1:]"
   ]
  },
  {
   "cell_type": "code",
   "execution_count": 21,
   "metadata": {},
   "outputs": [],
   "source": [
    "baseline_values = {}\n",
    "for l in f:\n",
    "    index,user,item,rating,est = l.strip().split(',')\n",
    "    if int(user) not in baseline_values:\n",
    "        baseline_values[int(user)] = {}\n",
    "    baseline_values[int(user)][int(item)] = round(float(est),3)"
   ]
  },
  {
   "cell_type": "code",
   "execution_count": 22,
   "metadata": {},
   "outputs": [],
   "source": [
    "a = open('bias_test.csv','w')\n",
    "for l in g:\n",
    "    user,item,rating = l.strip().split(',')\n",
    "    new_rating = float(rating)-baseline_values[int(user)][int(item)]\n",
    "    a.write(user+','+item+','+str(new_rating)+'\\n')\n",
    "a.close()"
   ]
  },
  {
   "cell_type": "code",
   "execution_count": null,
   "metadata": {},
   "outputs": [],
   "source": []
  }
 ],
 "metadata": {
  "kernelspec": {
   "display_name": "Personalization python",
   "language": "python",
   "name": "personalization"
  },
  "language_info": {
   "codemirror_mode": {
    "name": "ipython",
    "version": 2
   },
   "file_extension": ".py",
   "mimetype": "text/x-python",
   "name": "python",
   "nbconvert_exporter": "python",
   "pygments_lexer": "ipython2",
   "version": "2.7.14"
  }
 },
 "nbformat": 4,
 "nbformat_minor": 2
}
