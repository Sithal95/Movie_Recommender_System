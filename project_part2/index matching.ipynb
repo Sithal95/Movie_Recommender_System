{
 "cells": [
  {
   "cell_type": "code",
   "execution_count": 1,
   "metadata": {
    "collapsed": true
   },
   "outputs": [],
   "source": [
    "import pandas as pd\n",
    "import numpy as np\n",
    "import pickle"
   ]
  },
  {
   "cell_type": "code",
   "execution_count": 2,
   "metadata": {
    "collapsed": true
   },
   "outputs": [],
   "source": [
    "df = pd.read_csv('original_data.csv', header=None)\n",
    "df.columns = ['userId', 'itemId', 'rating']"
   ]
  },
  {
   "cell_type": "markdown",
   "metadata": {},
   "source": [
    "### re-index itemId"
   ]
  },
  {
   "cell_type": "code",
   "execution_count": 3,
   "metadata": {
    "collapsed": true
   },
   "outputs": [],
   "source": [
    "iid = df.itemId.unique()\n",
    "iid.sort()\n",
    "\n",
    "index_map = {}\n",
    "reverse_index_map = {}\n",
    "for i, e in enumerate(iid, 1):\n",
    "    index_map[e] = i\n",
    "    reverse_index_map[i] = e\n",
    "\n",
    "pickle.dump(index_map,open('index_map.dat','wb'))\n",
    "pickle.dump(reverse_index_map,open('reverse_index_map.dat','wb'))\n",
    "\n",
    "itemId = df.itemId\n",
    "df['new_itemId'] = itemId.map(index_map)\n",
    "df['itemId'] = df['new_itemId']\n",
    "df = df.drop(['new_itemId'], axis=1)\n",
    "df.to_csv('new_data.csv', index=False)"
   ]
  },
  {
   "cell_type": "markdown",
   "metadata": {},
   "source": [
    "### user mean and variance"
   ]
  },
  {
   "cell_type": "code",
   "execution_count": 4,
   "metadata": {
    "collapsed": true
   },
   "outputs": [],
   "source": [
    "gp = df[['userId', 'rating']].groupby('userId', as_index=False).agg(['mean', 'var'])\n",
    "mean_var_userId_df = pd.concat([gp.rating['mean'], gp.rating['var']], axis=1).reset_index()\n",
    "mean_var_userId_dict = mean_var_userId_df.to_dict()\n",
    "pickle.dump(mean_var_userId_dict, open('mean_var_userId_dict.dat', 'wb'))"
   ]
  }
 ],
 "metadata": {
  "kernelspec": {
   "display_name": "Python 2",
   "language": "python",
   "name": "python2"
  },
  "language_info": {
   "codemirror_mode": {
    "name": "ipython",
    "version": 2
   },
   "file_extension": ".py",
   "mimetype": "text/x-python",
   "name": "python",
   "nbconvert_exporter": "python",
   "pygments_lexer": "ipython2",
   "version": "2.7.13"
  }
 },
 "nbformat": 4,
 "nbformat_minor": 2
}
