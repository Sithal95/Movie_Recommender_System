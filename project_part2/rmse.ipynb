{
 "cells": [
  {
   "cell_type": "code",
   "execution_count": 1,
   "metadata": {},
   "outputs": [],
   "source": [
    "import pickle"
   ]
  },
  {
   "cell_type": "code",
   "execution_count": 2,
   "metadata": {},
   "outputs": [
    {
     "name": "stdout",
     "output_type": "stream",
     "text": [
      "[0.91585449565683674, 0.89507606228262648, 0.88878039959894439, 0.88597332586392519, 0.88412898816888708, 0.88322441278323216, 0.8823962277583095, 0.88181520350848763, 0.88133704291881609, 0.8806285637476452, 0.88024622921599849, 0.87984068499870227, 0.87948074840766111, 0.87921396874700197, 0.87903771099713379]\n",
      "[0.67941975894232409, 0.66413139104278029, 0.6590090578918304, 0.65674652931508581, 0.6552694263564881, 0.6545975038793449, 0.65395767014528927, 0.65367285427402899, 0.65332218814787435, 0.65278090905503683, 0.65241715132715483, 0.65211156290238848, 0.6519869317312128, 0.65185806012777847, 0.65161922084684454]\n",
      "[0.92434754139353481, 0.90299692149203181, 0.8964235936075059, 0.89258290777811589, 0.89083946247390478, 0.88957161653280348, 0.88897424708980932, 0.88827708708291397, 0.88804110935650626, 0.88789813500579773, 0.88742850898425274, 0.88722532961962219, 0.88692783454925705, 0.88680171637813221, 0.88670187650767118]\n",
      "[0.68207795198614785, 0.66611329886166581, 0.66131858927173748, 0.65853819813618331, 0.65726490539327065, 0.65634692249511861, 0.65588504932339531, 0.65501437951564701, 0.65462856654308743, 0.65457984092542076, 0.65415308666814198, 0.65392172473863175, 0.6536058207737605, 0.65337910064967575, 0.65326551319346826]\n",
      "[0.94004185176610466, 0.92026274641685957, 0.91325830056896307, 0.91050118839198391, 0.90851805202275426, 0.90731330283165401, 0.90669145582828092, 0.90589530899605686, 0.90530981848178682, 0.90474327934267518, 0.90468181877183684, 0.90435078411741909, 0.90406245718928857, 0.90382963047160836, 0.90347287446286528]\n",
      "[0.69618024131347234, 0.67937480257843363, 0.6742316955360923, 0.67178248489552606, 0.66984926592539706, 0.66900407050760502, 0.66826020149450038, 0.66757522713949957, 0.6670782703029754, 0.66669990709430837, 0.66672570110012574, 0.66637361188267485, 0.66610303146179151, 0.66581470671772691, 0.6656242194937636]\n",
      "[0.92135345244275579, 0.90041065953191979, 0.89303426613342951, 0.88951008769489492, 0.88727942870445065, 0.88621814425446688, 0.88515080018080683, 0.88440881674015082, 0.8838220648719084, 0.88340465317677597, 0.88299983201876064, 0.8828293914035833, 0.88249687954355094, 0.88242105565695261, 0.88206250183829837]\n",
      "[0.68554741016518528, 0.66956238641291632, 0.66422722218400465, 0.66135966143102198, 0.65951921467739938, 0.65870396661776165, 0.6577626338385667, 0.65732909904079717, 0.65689723287721813, 0.65662494834893692, 0.65639768257175102, 0.65612188360724177, 0.65585652160255425, 0.65570679573712476, 0.65544004229776986]\n"
     ]
    }
   ],
   "source": [
    "cross_rmse = {}\n",
    "cross_mae = {}\n",
    "for x in range(4):\n",
    "    i = x+1\n",
    "    z = x+1\n",
    "    f1 = open('split_'+str(1+(i+2)%4)+'.csv')\n",
    "    f1 = f1.readlines()\n",
    "    true_data = {}\n",
    "    for l in f1:\n",
    "        l = l.strip().split(',')\n",
    "        if int(l[0]) not in true_data:\n",
    "            true_data[int(l[0])] = {}\n",
    "        true_data[int(l[0])][int(l[1])] = float(l[2])\n",
    "    predictions = pickle.load(open('predictions_7_10_'+str(i)+'.dat','rb'))\n",
    "    rmse = [0.0]*15\n",
    "    mae = [0.0]*15\n",
    "    t = 0\n",
    "    for l in predictions:\n",
    "        for k in predictions[l]:\n",
    "            val = true_data[l][k[0]]\n",
    "            c = 0\n",
    "            t+=1\n",
    "            for i in k[1]:\n",
    "                rmse[c]+=(val-i)**2\n",
    "                mae[c]+=abs(val-i)\n",
    "                c+=1\n",
    "    c = 0\n",
    "    for l in rmse:\n",
    "        rmse[c] = (l*1.0/t)**0.5\n",
    "        c+=1\n",
    "    c = 0\n",
    "    for l in mae:\n",
    "        mae[c] = l*1.0/t\n",
    "        c+=1\n",
    "    print rmse\n",
    "    print mae\n",
    "    cross_mae[z] = mae\n",
    "    cross_rmse[z] = rmse"
   ]
  },
  {
   "cell_type": "code",
   "execution_count": 3,
   "metadata": {},
   "outputs": [
    {
     "data": {
      "text/plain": [
       "{1: [0.91585449565683674,\n",
       "  0.89507606228262648,\n",
       "  0.88878039959894439,\n",
       "  0.88597332586392519,\n",
       "  0.88412898816888708,\n",
       "  0.88322441278323216,\n",
       "  0.8823962277583095,\n",
       "  0.88181520350848763,\n",
       "  0.88133704291881609,\n",
       "  0.8806285637476452,\n",
       "  0.88024622921599849,\n",
       "  0.87984068499870227,\n",
       "  0.87948074840766111,\n",
       "  0.87921396874700197,\n",
       "  0.87903771099713379],\n",
       " 2: [0.92434754139353481,\n",
       "  0.90299692149203181,\n",
       "  0.8964235936075059,\n",
       "  0.89258290777811589,\n",
       "  0.89083946247390478,\n",
       "  0.88957161653280348,\n",
       "  0.88897424708980932,\n",
       "  0.88827708708291397,\n",
       "  0.88804110935650626,\n",
       "  0.88789813500579773,\n",
       "  0.88742850898425274,\n",
       "  0.88722532961962219,\n",
       "  0.88692783454925705,\n",
       "  0.88680171637813221,\n",
       "  0.88670187650767118],\n",
       " 3: [0.94004185176610466,\n",
       "  0.92026274641685957,\n",
       "  0.91325830056896307,\n",
       "  0.91050118839198391,\n",
       "  0.90851805202275426,\n",
       "  0.90731330283165401,\n",
       "  0.90669145582828092,\n",
       "  0.90589530899605686,\n",
       "  0.90530981848178682,\n",
       "  0.90474327934267518,\n",
       "  0.90468181877183684,\n",
       "  0.90435078411741909,\n",
       "  0.90406245718928857,\n",
       "  0.90382963047160836,\n",
       "  0.90347287446286528],\n",
       " 4: [0.92135345244275579,\n",
       "  0.90041065953191979,\n",
       "  0.89303426613342951,\n",
       "  0.88951008769489492,\n",
       "  0.88727942870445065,\n",
       "  0.88621814425446688,\n",
       "  0.88515080018080683,\n",
       "  0.88440881674015082,\n",
       "  0.8838220648719084,\n",
       "  0.88340465317677597,\n",
       "  0.88299983201876064,\n",
       "  0.8828293914035833,\n",
       "  0.88249687954355094,\n",
       "  0.88242105565695261,\n",
       "  0.88206250183829837]}"
      ]
     },
     "execution_count": 3,
     "metadata": {},
     "output_type": "execute_result"
    }
   ],
   "source": [
    "cross_rmse"
   ]
  },
  {
   "cell_type": "code",
   "execution_count": 4,
   "metadata": {},
   "outputs": [
    {
     "data": {
      "text/plain": [
       "{1: [0.67941975894232409,\n",
       "  0.66413139104278029,\n",
       "  0.6590090578918304,\n",
       "  0.65674652931508581,\n",
       "  0.6552694263564881,\n",
       "  0.6545975038793449,\n",
       "  0.65395767014528927,\n",
       "  0.65367285427402899,\n",
       "  0.65332218814787435,\n",
       "  0.65278090905503683,\n",
       "  0.65241715132715483,\n",
       "  0.65211156290238848,\n",
       "  0.6519869317312128,\n",
       "  0.65185806012777847,\n",
       "  0.65161922084684454],\n",
       " 2: [0.68207795198614785,\n",
       "  0.66611329886166581,\n",
       "  0.66131858927173748,\n",
       "  0.65853819813618331,\n",
       "  0.65726490539327065,\n",
       "  0.65634692249511861,\n",
       "  0.65588504932339531,\n",
       "  0.65501437951564701,\n",
       "  0.65462856654308743,\n",
       "  0.65457984092542076,\n",
       "  0.65415308666814198,\n",
       "  0.65392172473863175,\n",
       "  0.6536058207737605,\n",
       "  0.65337910064967575,\n",
       "  0.65326551319346826],\n",
       " 3: [0.69618024131347234,\n",
       "  0.67937480257843363,\n",
       "  0.6742316955360923,\n",
       "  0.67178248489552606,\n",
       "  0.66984926592539706,\n",
       "  0.66900407050760502,\n",
       "  0.66826020149450038,\n",
       "  0.66757522713949957,\n",
       "  0.6670782703029754,\n",
       "  0.66669990709430837,\n",
       "  0.66672570110012574,\n",
       "  0.66637361188267485,\n",
       "  0.66610303146179151,\n",
       "  0.66581470671772691,\n",
       "  0.6656242194937636],\n",
       " 4: [0.68554741016518528,\n",
       "  0.66956238641291632,\n",
       "  0.66422722218400465,\n",
       "  0.66135966143102198,\n",
       "  0.65951921467739938,\n",
       "  0.65870396661776165,\n",
       "  0.6577626338385667,\n",
       "  0.65732909904079717,\n",
       "  0.65689723287721813,\n",
       "  0.65662494834893692,\n",
       "  0.65639768257175102,\n",
       "  0.65612188360724177,\n",
       "  0.65585652160255425,\n",
       "  0.65570679573712476,\n",
       "  0.65544004229776986]}"
      ]
     },
     "execution_count": 4,
     "metadata": {},
     "output_type": "execute_result"
    }
   ],
   "source": [
    "cross_mae"
   ]
  },
  {
   "cell_type": "code",
   "execution_count": 5,
   "metadata": {},
   "outputs": [],
   "source": [
    "import numpy as np\n",
    "rmse = list((np.array(cross_rmse[1])+np.array(cross_rmse[2])+np.array(cross_rmse[3])+np.array(cross_rmse[4]))/4.0)\n",
    "mae = list((np.array(cross_mae[1])+np.array(cross_mae[2])+np.array(cross_mae[3])+np.array(cross_mae[4]))/4.0)"
   ]
  },
  {
   "cell_type": "code",
   "execution_count": 6,
   "metadata": {},
   "outputs": [
    {
     "data": {
      "text/plain": [
       "[0.925399335314808,\n",
       " 0.90468659743085933,\n",
       " 0.89787413997721077,\n",
       " 0.89464187743223,\n",
       " 0.89269148284249911,\n",
       " 0.89158186910053916,\n",
       " 0.89080318271430159,\n",
       " 0.89009910408190229,\n",
       " 0.88962750890725428,\n",
       " 0.88916865781822352,\n",
       " 0.88883909724771204,\n",
       " 0.88856154753483174,\n",
       " 0.88824197992243936,\n",
       " 0.88806659281342382,\n",
       " 0.88781874095149216]"
      ]
     },
     "execution_count": 6,
     "metadata": {},
     "output_type": "execute_result"
    }
   ],
   "source": [
    "rmse"
   ]
  },
  {
   "cell_type": "code",
   "execution_count": 7,
   "metadata": {},
   "outputs": [
    {
     "data": {
      "text/plain": [
       "[0.68580634060178247,\n",
       " 0.66979546972394899,\n",
       " 0.66469664122091621,\n",
       " 0.66210671844445423,\n",
       " 0.66047570308813874,\n",
       " 0.65966311587495752,\n",
       " 0.658966388700438,\n",
       " 0.65839788999249316,\n",
       " 0.65798156446778877,\n",
       " 0.65767140135592572,\n",
       " 0.65742340541679334,\n",
       " 0.65713219578273419,\n",
       " 0.65688807639232971,\n",
       " 0.65668966580807653,\n",
       " 0.65648724895796162]"
      ]
     },
     "execution_count": 7,
     "metadata": {},
     "output_type": "execute_result"
    }
   ],
   "source": [
    "mae"
   ]
  },
  {
   "cell_type": "code",
   "execution_count": 8,
   "metadata": {},
   "outputs": [],
   "source": [
    "import matplotlib.pyplot as plt\n",
    "import numpy as np"
   ]
  },
  {
   "cell_type": "code",
   "execution_count": 9,
   "metadata": {},
   "outputs": [],
   "source": [
    "x = [10*i for i in range(1,16)]\n",
    "rmse = [round(i,4) for i in rmse]\n",
    "mae = [round(i,4) for i in mae]\n",
    "a = plt.figure(figsize=(10,10))\n",
    "plt.plot(x,rmse,label = 'rmse')\n",
    "plt.plot(x,mae,label = 'mae')\n",
    "plt.xlabel('k - nearest neighbors',fontsize = 16)\n",
    "plt.ylabel('error value',fontsize = 16)\n",
    "plt.xticks(fontsize = 16)\n",
    "plt.yticks(fontsize = 16)\n",
    "plt.title('rmse & mae from 4-fold cross-validation of KnnBasic',fontsize = 16)\n",
    "plt.legend(loc=\"upper right\",fontsize = 16)\n",
    "plt.savefig('plots/rmse_mae.png')\n",
    "plt.clf()"
   ]
  },
  {
   "cell_type": "code",
   "execution_count": 10,
   "metadata": {},
   "outputs": [],
   "source": [
    "import pickle"
   ]
  },
  {
   "cell_type": "code",
   "execution_count": 11,
   "metadata": {},
   "outputs": [],
   "source": [
    "final_predictions = pickle.load(open('final_predictions.dat','rb'))"
   ]
  },
  {
   "cell_type": "code",
   "execution_count": 12,
   "metadata": {},
   "outputs": [],
   "source": [
    "f = open('final_test.csv')\n",
    "f = f.readlines()\n",
    "true_values = {}\n",
    "for l in f:\n",
    "    user,item,rating = l.strip().split(',')\n",
    "    if int(user) not in true_values:\n",
    "        true_values[int(user)] = {}\n",
    "    true_values[int(user)][int(item)] = float(rating)"
   ]
  },
  {
   "cell_type": "code",
   "execution_count": 13,
   "metadata": {},
   "outputs": [],
   "source": [
    "rmse = 0.0\n",
    "mae = 0.0\n",
    "t = 0\n",
    "true_positive = 0\n",
    "positives = 0\n",
    "predicted_positives = 0\n",
    "for user in final_predictions:\n",
    "    for item,rat in final_predictions[user]:\n",
    "        rmse+=(round(rat,2)-true_values[user][item])**2\n",
    "        mae+=abs(round(rat,2)-true_values[user][item])\n",
    "        if true_values[user][item]>3.0:\n",
    "            positives+=1\n",
    "        if round(rat,2)>3.0:\n",
    "            predicted_positives+=1\n",
    "        if true_values[user][item]>3.0 and round(rat,2)>3.0:\n",
    "            true_positive+=1\n",
    "        t+=1"
   ]
  },
  {
   "cell_type": "code",
   "execution_count": 14,
   "metadata": {},
   "outputs": [],
   "source": [
    "rmse = (rmse*1.0/t)**0.5\n",
    "mae = mae*1.0/t\n",
    "precision = true_positive*1.0/predicted_positives\n",
    "recall = true_positive*1.0/positives"
   ]
  },
  {
   "cell_type": "code",
   "execution_count": 15,
   "metadata": {},
   "outputs": [
    {
     "data": {
      "text/plain": [
       "0.9347797838826738"
      ]
     },
     "execution_count": 15,
     "metadata": {},
     "output_type": "execute_result"
    }
   ],
   "source": [
    "rmse"
   ]
  },
  {
   "cell_type": "code",
   "execution_count": 16,
   "metadata": {},
   "outputs": [
    {
     "data": {
      "text/plain": [
       "0.7290024213588038"
      ]
     },
     "execution_count": 16,
     "metadata": {},
     "output_type": "execute_result"
    }
   ],
   "source": [
    "mae"
   ]
  },
  {
   "cell_type": "code",
   "execution_count": 17,
   "metadata": {},
   "outputs": [
    {
     "data": {
      "text/plain": [
       "0.6648365329548567"
      ]
     },
     "execution_count": 17,
     "metadata": {},
     "output_type": "execute_result"
    }
   ],
   "source": [
    "precision"
   ]
  },
  {
   "cell_type": "code",
   "execution_count": 18,
   "metadata": {},
   "outputs": [
    {
     "data": {
      "text/plain": [
       "0.9360877872631339"
      ]
     },
     "execution_count": 18,
     "metadata": {},
     "output_type": "execute_result"
    }
   ],
   "source": [
    "recall"
   ]
  },
  {
   "cell_type": "code",
   "execution_count": 19,
   "metadata": {},
   "outputs": [],
   "source": [
    "f = open('test_prediction.csv')\n",
    "f = f.readlines()[1:]"
   ]
  },
  {
   "cell_type": "code",
   "execution_count": 20,
   "metadata": {},
   "outputs": [],
   "source": [
    "baseline_predictions = {}\n",
    "for l in f:\n",
    "    index,user,item,rating,prediction = l.strip().split(',')\n",
    "    if int(user) not in baseline_predictions:\n",
    "        baseline_predictions[int(user)] = {}\n",
    "    baseline_predictions[int(user)][int(item)] = float(prediction)"
   ]
  },
  {
   "cell_type": "code",
   "execution_count": 21,
   "metadata": {},
   "outputs": [],
   "source": [
    "baseline_rmse = 0.0\n",
    "baseline_mae = 0.0\n",
    "tot = 0\n",
    "baseline_tp = 0\n",
    "baseline_positives = 0\n",
    "baseline_predicted_positives = 0\n",
    "for l in baseline_predictions:\n",
    "    for k in baseline_predictions[l]:\n",
    "        baseline_rmse += (round(baseline_predictions[l][k],2)-true_values[l][k])**2\n",
    "        baseline_mae += abs(round(baseline_predictions[l][k],2)-true_values[l][k])\n",
    "        if true_values[l][k]>3.0:\n",
    "            baseline_positives+=1\n",
    "        if round(baseline_predictions[l][k],2)>3.0:\n",
    "            baseline_predicted_positives+=1\n",
    "        if true_values[l][k]>3.0 and round(baseline_predictions[l][k],2)>3.0:\n",
    "            baseline_tp+=1\n",
    "        tot+=1"
   ]
  },
  {
   "cell_type": "code",
   "execution_count": 22,
   "metadata": {},
   "outputs": [],
   "source": [
    "baseline_rmse = (baseline_rmse*1.0/tot)**0.5\n",
    "baseline_mae = baseline_mae*1.0/tot\n",
    "baseline_precision = baseline_tp*1.0/baseline_predicted_positives\n",
    "baseline_recall = baseline_tp*1.0/baseline_positives"
   ]
  },
  {
   "cell_type": "code",
   "execution_count": 23,
   "metadata": {},
   "outputs": [
    {
     "data": {
      "text/plain": [
       "0.8588572359196249"
      ]
     },
     "execution_count": 23,
     "metadata": {},
     "output_type": "execute_result"
    }
   ],
   "source": [
    "baseline_rmse"
   ]
  },
  {
   "cell_type": "code",
   "execution_count": 24,
   "metadata": {},
   "outputs": [
    {
     "data": {
      "text/plain": [
       "0.6600073937718747"
      ]
     },
     "execution_count": 24,
     "metadata": {},
     "output_type": "execute_result"
    }
   ],
   "source": [
    "baseline_mae"
   ]
  },
  {
   "cell_type": "code",
   "execution_count": 25,
   "metadata": {},
   "outputs": [
    {
     "data": {
      "text/plain": [
       "0.6989876421655874"
      ]
     },
     "execution_count": 25,
     "metadata": {},
     "output_type": "execute_result"
    }
   ],
   "source": [
    "baseline_precision"
   ]
  },
  {
   "cell_type": "code",
   "execution_count": 26,
   "metadata": {},
   "outputs": [
    {
     "data": {
      "text/plain": [
       "0.9331889650988389"
      ]
     },
     "execution_count": 26,
     "metadata": {},
     "output_type": "execute_result"
    }
   ],
   "source": [
    "baseline_recall"
   ]
  },
  {
   "cell_type": "code",
   "execution_count": 27,
   "metadata": {},
   "outputs": [],
   "source": [
    "knn_baseline = pickle.load(open('final_predictions_baseline.dat','rb'))"
   ]
  },
  {
   "cell_type": "code",
   "execution_count": 28,
   "metadata": {},
   "outputs": [],
   "source": [
    "f = open('final_test.csv')\n",
    "f = f.readlines()\n",
    "true_values = {}\n",
    "for l in f:\n",
    "    user,item,rating = l.strip().split(',')\n",
    "    if int(user) not in true_values:\n",
    "        true_values[int(user)] = {}\n",
    "    true_values[int(user)][int(item)] = float(rating)"
   ]
  },
  {
   "cell_type": "code",
   "execution_count": 29,
   "metadata": {},
   "outputs": [],
   "source": [
    "f = open('test_prediction.csv')\n",
    "f = f.readlines()[1:]"
   ]
  },
  {
   "cell_type": "code",
   "execution_count": 30,
   "metadata": {},
   "outputs": [],
   "source": [
    "baseline_predictions = {}\n",
    "for l in f:\n",
    "    index,user,item,rating,prediction = l.strip().split(',')\n",
    "    if int(user) not in baseline_predictions:\n",
    "        baseline_predictions[int(user)] = {}\n",
    "    baseline_predictions[int(user)][int(item)] = float(prediction)"
   ]
  },
  {
   "cell_type": "code",
   "execution_count": 31,
   "metadata": {},
   "outputs": [],
   "source": [
    "knnbaseline_rmse = 0.0\n",
    "knnbaseline_mae = 0.0\n",
    "t = 0\n",
    "knnb_true_positive = 0\n",
    "knnb_positives = 0\n",
    "knnb_predicted_positives = 0\n",
    "for user in knn_baseline:\n",
    "    for item,rat in knn_baseline[user]:\n",
    "        knnbaseline_rmse+=(baseline_predictions[user][item]+round(rat,2)-true_values[user][item])**2\n",
    "        knnbaseline_mae+=abs(baseline_predictions[user][item]+round(rat,2)-true_values[user][item])\n",
    "        if true_values[user][item]>3.0:\n",
    "            knnb_positives+=1\n",
    "        if baseline_predictions[user][item]+round(rat,2)>3.0:\n",
    "            knnb_predicted_positives+=1\n",
    "        if true_values[user][item]>3.0 and baseline_predictions[user][item]+round(rat,2)>3.0:\n",
    "            knnb_true_positive+=1\n",
    "        t+=1"
   ]
  },
  {
   "cell_type": "code",
   "execution_count": 32,
   "metadata": {},
   "outputs": [],
   "source": [
    "knnbaseline_rmse = (knnbaseline_rmse*1.0/tot)**0.5\n",
    "knnbaseline_mae = knnbaseline_mae*1.0/tot\n",
    "knnbaseline_precision = knnb_true_positive*1.0/knnb_predicted_positives\n",
    "knnbaseline_recall = knnb_true_positive*1.0/knnb_positives"
   ]
  },
  {
   "cell_type": "code",
   "execution_count": 33,
   "metadata": {},
   "outputs": [
    {
     "data": {
      "text/plain": [
       "0.8338032185388256"
      ]
     },
     "execution_count": 33,
     "metadata": {},
     "output_type": "execute_result"
    }
   ],
   "source": [
    "knnbaseline_rmse"
   ]
  },
  {
   "cell_type": "code",
   "execution_count": 34,
   "metadata": {},
   "outputs": [
    {
     "data": {
      "text/plain": [
       "0.62293584502352"
      ]
     },
     "execution_count": 34,
     "metadata": {},
     "output_type": "execute_result"
    }
   ],
   "source": [
    "knnbaseline_mae"
   ]
  },
  {
   "cell_type": "code",
   "execution_count": 35,
   "metadata": {},
   "outputs": [
    {
     "data": {
      "text/plain": [
       "0.6989674291530509"
      ]
     },
     "execution_count": 35,
     "metadata": {},
     "output_type": "execute_result"
    }
   ],
   "source": [
    "knnbaseline_precision"
   ]
  },
  {
   "cell_type": "code",
   "execution_count": 36,
   "metadata": {},
   "outputs": [
    {
     "data": {
      "text/plain": [
       "0.9316404855408783"
      ]
     },
     "execution_count": 36,
     "metadata": {},
     "output_type": "execute_result"
    }
   ],
   "source": [
    "knnbaseline_recall"
   ]
  },
  {
   "cell_type": "code",
   "execution_count": 50,
   "metadata": {},
   "outputs": [],
   "source": [
    "ind = np.arange(4)\n",
    "bar_width=0.25\n",
    "knn = [rmse,mae,precision,recall]\n",
    "baseline = [baseline_rmse,baseline_mae,baseline_precision,baseline_recall]\n",
    "knn_baseline = [knnbaseline_rmse,knnbaseline_mae,knnbaseline_precision,knnbaseline_recall]\n",
    "\n",
    "fig, ax = plt.subplots()\n",
    "fig.set_size_inches(10,10)\n",
    "rects1 = ax.bar(ind, knn, bar_width, color=\"#ff8533\")\n",
    "rects2 = ax.bar(ind+bar_width, baseline, bar_width, color=\"#4dd2ff\")\n",
    "rects3 = ax.bar(ind+2*bar_width, knn_baseline, bar_width, color=\"#8cff66\")\n",
    "\n",
    "ax.set_ylabel(\"metric values\",fontsize=16)\n",
    "ax.set_title(\"knnBasic vs baseline\",fontsize=16)\n",
    "ax.set_xticks(ind + bar_width)\n",
    "ax.set_xticklabels(('rmse', 'mae', 'precision', 'recall'),fontsize=16)\n",
    "\n",
    "ax.legend((rects1[0], rects2[0], rects3[0]), ('knnBasic', 'baseline', 'knnBaseline'),fontsize=16)\n",
    "plt.savefig('plots/final_plot1.png')\n",
    "plt.clf()"
   ]
  },
  {
   "cell_type": "code",
   "execution_count": null,
   "metadata": {},
   "outputs": [],
   "source": []
  }
 ],
 "metadata": {
  "kernelspec": {
   "display_name": "Personalization python",
   "language": "python",
   "name": "personalization"
  },
  "language_info": {
   "codemirror_mode": {
    "name": "ipython",
    "version": 2
   },
   "file_extension": ".py",
   "mimetype": "text/x-python",
   "name": "python",
   "nbconvert_exporter": "python",
   "pygments_lexer": "ipython2",
   "version": "2.7.14"
  }
 },
 "nbformat": 4,
 "nbformat_minor": 2
}
