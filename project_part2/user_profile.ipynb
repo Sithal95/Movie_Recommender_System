{
 "cells": [
  {
   "cell_type": "code",
   "execution_count": 1,
   "metadata": {
    "collapsed": true
   },
   "outputs": [],
   "source": [
    "import pickle\n",
    "import random\n",
    "import pandas as pd\n",
    "import numpy as np\n",
    "import timeit\n",
    "import time\n",
    "\n",
    "# temp_list = list()\n",
    "# a = list(np.random.randint(2, size=profile_size-1))\n",
    "\n",
    "# a.append(random.uniform(0,1))\n",
    "# print len(a)\n",
    "# user_mean = ratings.groupby('userid').mean()['rating']\n",
    "# print len(user_mean)\n",
    "\n"
   ]
  },
  {
   "cell_type": "code",
   "execution_count": 2,
   "metadata": {
    "collapsed": true
   },
   "outputs": [],
   "source": [
    "#ratings = pd.read_csv(\"ml-20m/Training/train.csv\",header=0)\n",
    "split1 = pd.read_csv(\"ml-20m/Training/split_1.csv\",header=None)\n",
    "split2 = pd.read_csv(\"ml-20m/Training/split_2.csv\",header=None)\n",
    "split3 = pd.read_csv(\"ml-20m/Training/split_3.csv\",header=None)"
   ]
  },
  {
   "cell_type": "code",
   "execution_count": 3,
   "metadata": {},
   "outputs": [
    {
     "data": {
      "text/plain": [
       "12080028"
      ]
     },
     "execution_count": 3,
     "metadata": {},
     "output_type": "execute_result"
    }
   ],
   "source": [
    "len(split1) + len(split2) + len(split3)"
   ]
  },
  {
   "cell_type": "code",
   "execution_count": 4,
   "metadata": {
    "collapsed": true
   },
   "outputs": [],
   "source": [
    "df = pd.concat([split1,split2,split3])\n",
    "len(df)\n",
    "df.columns = ['userId', 'movieId','rating']\n",
    "df.to_csv('ml-20m/Training/train.csv')\n",
    "ratings = pd.read_csv(\"ml-20m/Training/train.csv\")"
   ]
  },
  {
   "cell_type": "code",
   "execution_count": 5,
   "metadata": {},
   "outputs": [
    {
     "data": {
      "text/html": [
       "<div>\n",
       "<style>\n",
       "    .dataframe thead tr:only-child th {\n",
       "        text-align: right;\n",
       "    }\n",
       "\n",
       "    .dataframe thead th {\n",
       "        text-align: left;\n",
       "    }\n",
       "\n",
       "    .dataframe tbody tr th {\n",
       "        vertical-align: top;\n",
       "    }\n",
       "</style>\n",
       "<table border=\"1\" class=\"dataframe\">\n",
       "  <thead>\n",
       "    <tr style=\"text-align: right;\">\n",
       "      <th></th>\n",
       "      <th>Unnamed: 0</th>\n",
       "      <th>userId</th>\n",
       "      <th>movieId</th>\n",
       "      <th>rating</th>\n",
       "    </tr>\n",
       "  </thead>\n",
       "  <tbody>\n",
       "    <tr>\n",
       "      <th>0</th>\n",
       "      <td>0</td>\n",
       "      <td>1</td>\n",
       "      <td>588</td>\n",
       "      <td>3.5</td>\n",
       "    </tr>\n",
       "    <tr>\n",
       "      <th>1</th>\n",
       "      <td>1</td>\n",
       "      <td>1</td>\n",
       "      <td>5581</td>\n",
       "      <td>3.5</td>\n",
       "    </tr>\n",
       "    <tr>\n",
       "      <th>2</th>\n",
       "      <td>2</td>\n",
       "      <td>1</td>\n",
       "      <td>2055</td>\n",
       "      <td>4.0</td>\n",
       "    </tr>\n",
       "    <tr>\n",
       "      <th>3</th>\n",
       "      <td>3</td>\n",
       "      <td>1</td>\n",
       "      <td>2862</td>\n",
       "      <td>3.5</td>\n",
       "    </tr>\n",
       "    <tr>\n",
       "      <th>4</th>\n",
       "      <td>4</td>\n",
       "      <td>1</td>\n",
       "      <td>1219</td>\n",
       "      <td>3.5</td>\n",
       "    </tr>\n",
       "  </tbody>\n",
       "</table>\n",
       "</div>"
      ],
      "text/plain": [
       "   Unnamed: 0  userId  movieId  rating\n",
       "0           0       1      588     3.5\n",
       "1           1       1     5581     3.5\n",
       "2           2       1     2055     4.0\n",
       "3           3       1     2862     3.5\n",
       "4           4       1     1219     3.5"
      ]
     },
     "execution_count": 5,
     "metadata": {},
     "output_type": "execute_result"
    }
   ],
   "source": [
    "ratings.head()\n",
    "#type(ratings['userId'])"
   ]
  },
  {
   "cell_type": "code",
   "execution_count": 6,
   "metadata": {
    "collapsed": true
   },
   "outputs": [],
   "source": [
    "shape = ratings.shape"
   ]
  },
  {
   "cell_type": "code",
   "execution_count": 7,
   "metadata": {},
   "outputs": [
    {
     "name": "stdout",
     "output_type": "stream",
     "text": [
      "12080028\n",
      "1757\n",
      "2\n",
      "2\n"
     ]
    }
   ],
   "source": [
    "ratings_length = shape[0]\n",
    "print(ratings_length)\n",
    "\n",
    "features = pd.read_csv(\"feature_list.csv\",header=None)\n",
    "w_genre = 2\n",
    "w_cast = 1\n",
    "w_director = 1\n",
    "w_rating = 2\n",
    "weights = []\n",
    "for i in range(1757):\n",
    "    if features[i].values[0].strip(\"()\").split(\",\")[0].strip(\"''\") == 'genre':\n",
    "        weights.append(w_genre)\n",
    "    elif features[i].values[0].strip(\"()\").split(\",\")[0].strip(\"''\") == 'cast':\n",
    "        weights.append(w_cast)\n",
    "    elif features[i].values[0].strip(\"()\").split(\",\")[0].strip(\"''\") == 'director':\n",
    "        weights.append(w_director)\n",
    "    else:\n",
    "        weights.append(w_rating)\n",
    "\n",
    "weights_arr = np.array(weights)\n",
    "print len(weights)\n",
    "print weights_arr[0]\n",
    "print weights_arr[-1]"
   ]
  },
  {
   "cell_type": "code",
   "execution_count": 8,
   "metadata": {
    "collapsed": true
   },
   "outputs": [],
   "source": [
    "profile_size = 1757"
   ]
  },
  {
   "cell_type": "code",
   "execution_count": 9,
   "metadata": {
    "collapsed": true
   },
   "outputs": [],
   "source": [
    "user_mean = ratings.groupby('userId').mean()['rating']"
   ]
  },
  {
   "cell_type": "code",
   "execution_count": 10,
   "metadata": {},
   "outputs": [
    {
     "data": {
      "text/plain": [
       "138493"
      ]
     },
     "execution_count": 10,
     "metadata": {},
     "output_type": "execute_result"
    }
   ],
   "source": [
    "len(user_mean)"
   ]
  },
  {
   "cell_type": "code",
   "execution_count": 11,
   "metadata": {},
   "outputs": [
    {
     "name": "stdout",
     "output_type": "stream",
     "text": [
      "userId\n",
      "1    3.714286\n",
      "2    4.000000\n",
      "3    4.159292\n",
      "4    3.666667\n",
      "5    4.225000\n",
      "Name: rating, dtype: float64\n"
     ]
    },
    {
     "data": {
      "text/plain": [
       "3.6666666666666665"
      ]
     },
     "execution_count": 11,
     "metadata": {},
     "output_type": "execute_result"
    }
   ],
   "source": [
    "print(user_mean.head())\n",
    "user_mean[4]"
   ]
  },
  {
   "cell_type": "code",
   "execution_count": 12,
   "metadata": {
    "collapsed": true
   },
   "outputs": [],
   "source": [
    "pickle_in = open(\"new_item_profiles.pickle\", \"rb\")\n",
    "movie_dict = pickle.load(pickle_in)"
   ]
  },
  {
   "cell_type": "code",
   "execution_count": 13,
   "metadata": {
    "scrolled": true
   },
   "outputs": [
    {
     "name": "stdout",
     "output_type": "stream",
     "text": [
      "[0, 0, 0, 1, 0, 0, 1, 0, 0, 0, 0, 0, 0, 0, 1, 0, 0, 0, 0, 0, 0, 0, 0, 1, 1, 0, 0, 0, 0, 0, 1, 0, 0, 0, 0, 0, 0, 0, 0, 0, 0, 0, 0, 0, 0, 0, 0, 0, 0, 0, 0, 0, 0, 0, 0, 0, 0, 0, 0, 0, 0, 0, 0, 0, 0, 0, 0, 0, 0, 0, 0, 0, 0, 0, 0, 0, 0, 0, 0, 0, 0, 0, 0, 0, 0, 0, 0, 0, 0, 0, 0, 0, 0, 0, 0, 0, 0, 0, 0, 0, 0, 0, 0, 0, 0, 0, 0, 0, 0, 0, 0, 0, 0, 0, 0, 0, 0, 0, 0, 0, 0, 0, 0, 0, 0, 0, 0, 0, 0, 0, 0, 0, 0, 0, 0, 0, 0, 0, 0, 0, 0, 0, 0, 0, 0, 0, 0, 0, 0, 0, 0, 0, 0, 0, 0, 0, 0, 0, 0, 0, 0, 0, 0, 0, 0, 0, 0, 0, 0, 0, 0, 0, 0, 0, 0, 1, 0, 0, 0, 0, 0, 0, 0, 0, 0, 0, 0, 0, 0, 0, 0, 0, 0, 0, 0, 0, 0, 0, 0, 0, 0, 0, 0, 0, 0, 0, 0, 0, 0, 0, 0, 0, 0, 0, 0, 0, 0, 0, 0, 0, 0, 0, 0, 0, 0, 0, 0, 0, 0, 0, 0, 0, 0, 0, 0, 0, 0, 0, 0, 0, 0, 0, 0, 0, 0, 0, 0, 0, 0, 0, 0, 0, 0, 0, 0, 0, 0, 0, 0, 0, 0, 0, 0, 0, 0, 0, 0, 0, 0, 0, 0, 0, 0, 0, 0, 0, 0, 0, 0, 0, 0, 0, 0, 0, 0, 0, 0, 0, 0, 0, 0, 0, 0, 0, 0, 0, 0, 0, 0, 0, 0, 0, 0, 0, 0, 0, 0, 0, 0, 0, 0, 0, 0, 0, 0, 0, 0, 0, 0, 0, 0, 0, 0, 0, 0, 0, 0, 0, 0, 0, 0, 0, 0, 0, 0, 0, 0, 0, 0, 0, 0, 0, 0, 0, 0, 0, 0, 0, 0, 0, 0, 0, 0, 0, 0, 0, 0, 0, 0, 0, 0, 0, 0, 0, 0, 0, 0, 0, 0, 0, 0, 0, 0, 0, 0, 0, 0, 0, 0, 0, 0, 0, 0, 0, 0, 0, 0, 0, 0, 0, 0, 0, 0, 0, 0, 0, 0, 0, 0, 0, 0, 0, 0, 0, 0, 0, 0, 0, 0, 0, 0, 0, 0, 0, 0, 0, 0, 0, 0, 0, 0, 0, 0, 0, 0, 0, 0, 0, 0, 0, 0, 0, 0, 0, 0, 0, 0, 0, 0, 0, 0, 0, 0, 0, 0, 0, 0, 0, 0, 0, 0, 0, 0, 0, 0, 0, 0, 0, 0, 0, 0, 0, 0, 0, 0, 0, 0, 0, 0, 0, 0, 0, 0, 0, 0, 0, 0, 0, 0, 0, 0, 0, 0, 0, 0, 0, 0, 0, 0, 0, 0, 0, 0, 0, 0, 0, 0, 0, 0, 0, 0, 0, 0, 0, 0, 0, 0, 0, 0, 0, 0, 0, 0, 0, 0, 0, 0, 0, 0, 0, 0, 0, 0, 0, 0, 0, 0, 0, 0, 0, 0, 0, 0, 0, 0, 0, 0, 0, 0, 0, 0, 0, 0, 0, 0, 0, 0, 0, 0, 0, 0, 0, 0, 0, 0, 0, 0, 0, 0, 0, 0, 0, 0, 0, 0, 0, 0, 0, 0, 0, 0, 0, 0, 0, 0, 0, 0, 0, 0, 0, 0, 0, 0, 0, 0, 0, 0, 0, 0, 0, 0, 0, 0, 0, 0, 0, 0, 0, 0, 0, 0, 0, 0, 0, 0, 0, 0, 0, 0, 0, 0, 0, 0, 0, 0, 0, 0, 0, 0, 0, 0, 0, 0, 0, 0, 0, 0, 0, 0, 0, 0, 0, 0, 0, 0, 0, 0, 0, 0, 0, 0, 0, 0, 0, 0, 0, 0, 0, 0, 0, 0, 0, 0, 0, 0, 0, 0, 0, 0, 0, 0, 0, 0, 0, 0, 0, 0, 0, 0, 0, 0, 0, 0, 0, 0, 0, 0, 0, 0, 0, 0, 0, 0, 0, 0, 0, 0, 0, 0, 0, 0, 0, 0, 0, 0, 0, 0, 0, 0, 0, 0, 0, 0, 0, 0, 0, 0, 0, 0, 0, 0, 0, 0, 0, 0, 0, 0, 0, 0, 0, 0, 0, 0, 0, 0, 0, 0, 0, 0, 0, 0, 0, 0, 0, 0, 0, 0, 0, 0, 0, 0, 0, 0, 0, 0, 0, 0, 0, 0, 0, 0, 0, 0, 0, 0, 0, 0, 0, 0, 0, 0, 0, 0, 0, 0, 0, 0, 0, 0, 0, 0, 0, 0, 0, 0, 0, 0, 0, 0, 0, 0, 0, 0, 0, 0, 0, 0, 0, 0, 0, 0, 0, 0, 0, 0, 0, 0, 0, 0, 0, 0, 0, 0, 0, 0, 0, 0, 0, 0, 0, 0, 0, 0, 0, 0, 0, 0, 0, 0, 0, 0, 0, 0, 0, 0, 0, 0, 0, 0, 0, 0, 0, 0, 0, 0, 0, 0, 0, 0, 0, 0, 0, 0, 0, 0, 0, 0, 0, 0, 0, 0, 0, 0, 0, 0, 0, 0, 0, 0, 0, 0, 0, 0, 0, 0, 0, 0, 0, 0, 0, 0, 0, 0, 0, 0, 0, 0, 0, 0, 0, 0, 0, 0, 0, 0, 0, 0, 0, 0, 0, 0, 0, 0, 0, 0, 0, 0, 0, 0, 0, 0, 0, 0, 0, 0, 0, 0, 0, 0, 0, 0, 0, 1, 0, 0, 0, 0, 0, 0, 0, 0, 0, 0, 0, 0, 0, 0, 0, 0, 0, 0, 0, 0, 0, 0, 0, 0, 0, 0, 0, 0, 0, 0, 0, 0, 0, 0, 0, 0, 0, 0, 0, 0, 0, 0, 0, 0, 0, 0, 0, 0, 0, 0, 0, 0, 0, 0, 0, 0, 0, 0, 0, 0, 0, 0, 0, 0, 0, 0, 0, 0, 0, 0, 0, 0, 0, 0, 0, 0, 0, 0, 0, 0, 0, 0, 0, 0, 0, 0, 0, 0, 0, 0, 0, 0, 0, 0, 0, 0, 0, 0, 0, 0, 0, 0, 0, 0, 0, 0, 0, 0, 0, 0, 0, 0, 0, 0, 0, 0, 0, 0, 0, 0, 0, 0, 0, 0, 0, 0, 0, 0, 0, 0, 0, 0, 0, 0, 0, 0, 0, 0, 0, 0, 0, 0, 0, 0, 0, 0, 0, 0, 0, 0, 0, 0, 0, 0, 0, 0, 0, 0, 0, 0, 0, 0, 0, 0, 0, 0, 0, 0, 0, 0, 0, 0, 0, 0, 0, 0, 0, 0, 0, 0, 0, 0, 0, 0, 0, 0, 0, 0, 0, 0, 0, 0, 0, 0, 0, 0, 0, 0, 0, 0, 0, 0, 0, 0, 0, 0, 0, 0, 0, 0, 0, 0, 0, 0, 0, 0, 0, 0, 0, 0, 0, 0, 0, 0, 0, 0, 0, 0, 0, 0, 0, 0, 0, 0, 0, 0, 0, 0, 0, 0, 0, 0, 0, 0, 0, 0, 0, 0, 0, 0, 0, 0, 0, 0, 0, 0, 0, 0, 0, 0, 0, 0, 0, 0, 0, 0, 0, 0, 0, 0, 0, 0, 0, 0, 0, 0, 0, 0, 0, 0, 0, 0, 0, 0, 0, 0, 0, 0, 0, 0, 0, 0, 0, 0, 0, 0, 0, 0, 0, 0, 0, 0, 0, 0, 0, 0, 0, 0, 0, 0, 0, 0, 0, 0, 0, 0, 0, 0, 0, 0, 0, 0, 0, 0, 0, 0, 0, 0, 0, 0, 0, 0, 0, 0, 0, 0, 0, 0, 0, 0, 0, 0, 0, 0, 0, 0, 0, 0, 0, 0, 0, 0, 0, 0, 0, 0, 0, 0, 0, 0, 0, 0, 0, 0, 0, 0, 0, 0, 0, 0, 0, 0, 0, 0, 0, 0, 0, 0, 0, 0, 0, 0, 0, 0, 0, 0, 0, 0, 0, 0, 0, 0, 0, 0, 0, 0, 0, 0, 0, 0, 0, 0, 0, 0, 0, 0, 0, 0, 0, 0, 0, 0, 0, 0, 0, 0, 0, 0, 0, 0, 0, 0, 0, 0, 0, 0, 0, 0, 0, 0, 0, 0, 0, 0, 0, 0, 0, 0, 0, 0, 0, 0, 0, 0, 0, 0, 0, 0, 0, 0, 0, 0, 0, 0, 0, 0, 0, 0, 0, 0, 0, 0, 0, 0, 0, 0, 0, 0, 0, 0, 0, 0, 0, 0, 0, 0, 0, 0, 0, 0, 0, 0, 0, 0, 0, 0, 0, 0, 0, 0, 0, 0, 0, 0, 0, 0, 0, 0, 0, 0, 0, 0, 0, 0, 0, 0, 0, 0, 0, 0, 0, 0, 0, 0, 0, 0, 0, 0, 0, 0, 0, 0, 0, 0, 0, 0, 0, 0, 0, 0, 0, 0, 0, 0, 0, 0, 0, 0, 0, 0, 0, 0, 0, 0, 0, 0, 0, 0, 0, 0, 0, 0, 0, 0, 0, 0, 0, 0, 0, 0, 0, 0, 0, 0, 0, 0, 0, 0, 0, 0, 0, 0, 0, 0, 0, 0, 0, 0, 0, 0, 0, 0, 0, 0, 0, 0, 0, 0, 0, 0, 0, 0, 0, 0, 0, 0, 0, 0, 0, 0, 0, 0, 0, 0, 0, 0, 0, 0, 0, 0, 0, 0, 0, 0, 0, 0, 0, 0, 0, 0, 0, 0, 0, 0, 0, 0, 0, 0, 0, 0, 0, 0, 0, 0, 0, 0, 0, 0, 0, 0, 0, 0, 0, 0, 0, 0, 0, 0, 0, 0, 0, 0, 0, 0, 0, 0, 0, 0, 0, 0, 0, 0, 0, 0, 0, 0, 0, 0, 0, 0, 0, 0, 0, 0, 0, 0, 0, 0, 0, 0, 0, 0, 0, 0, 0, 0, 0, 0, 0, 0, 0, 0, 0, 0, 0, 0, 0, 0, 0, 0, 0, 0, 0, 0, 0, 0, 0, 0, 0, 0, 0, 0, 0, 0, 0, 0, 0, 0, 0, 0, 0, 0, 0, 0, 0, 0, 0, 0, 0, 0, 0, 0, 0, 0, 0, 0, 0, 0, 0, 0, 0, 0, 0, 0, 0, 0, 0, 0, 0, 0, 0, 0, 0, 0, 0, 0, 0, 0, 0, 0, 0, 0, 0, 0, 0, 0, 0, 0, 0, 0, 0, 0, 0, 0, 0, 0, 0, 0, 0, 0, 0, 0, 0, 0, 0, 0, 0, 0, 0, 0, 0, 0, 0, 0, 0, 0, 0, 0, 0, 0, 0, 0, 0, 0, 0, 0, 0, 0, 0, 0, 0, 0, 0, 0, 0, 0, 0, 0, 0, 0, 0, 0, 0, 0, 0, 0, 0, 0, 0, 0, 0, 0, 0, 0, 0, 0, 0, 0, 0, 0, 0, 0, 0, 0.8300000000000001]\n"
     ]
    }
   ],
   "source": [
    "len(movie_dict)\n",
    "print (movie_dict[1])"
   ]
  },
  {
   "cell_type": "code",
   "execution_count": 14,
   "metadata": {
    "collapsed": true
   },
   "outputs": [],
   "source": [
    "user_profile_dict = {}\n",
    "user_weights_denom = {}\n",
    "#start = time.clock()\n",
    "start1 = time.asctime()"
   ]
  },
  {
   "cell_type": "code",
   "execution_count": 15,
   "metadata": {
    "collapsed": true
   },
   "outputs": [],
   "source": [
    "user_data = ratings[['userId','movieId']]"
   ]
  },
  {
   "cell_type": "code",
   "execution_count": 16,
   "metadata": {},
   "outputs": [
    {
     "data": {
      "text/html": [
       "<div>\n",
       "<style>\n",
       "    .dataframe thead tr:only-child th {\n",
       "        text-align: right;\n",
       "    }\n",
       "\n",
       "    .dataframe thead th {\n",
       "        text-align: left;\n",
       "    }\n",
       "\n",
       "    .dataframe tbody tr th {\n",
       "        vertical-align: top;\n",
       "    }\n",
       "</style>\n",
       "<table border=\"1\" class=\"dataframe\">\n",
       "  <thead>\n",
       "    <tr style=\"text-align: right;\">\n",
       "      <th></th>\n",
       "      <th>userId</th>\n",
       "      <th>movieId</th>\n",
       "    </tr>\n",
       "  </thead>\n",
       "  <tbody>\n",
       "    <tr>\n",
       "      <th>0</th>\n",
       "      <td>1</td>\n",
       "      <td>588</td>\n",
       "    </tr>\n",
       "    <tr>\n",
       "      <th>1</th>\n",
       "      <td>1</td>\n",
       "      <td>5581</td>\n",
       "    </tr>\n",
       "    <tr>\n",
       "      <th>2</th>\n",
       "      <td>1</td>\n",
       "      <td>2055</td>\n",
       "    </tr>\n",
       "    <tr>\n",
       "      <th>3</th>\n",
       "      <td>1</td>\n",
       "      <td>2862</td>\n",
       "    </tr>\n",
       "    <tr>\n",
       "      <th>4</th>\n",
       "      <td>1</td>\n",
       "      <td>1219</td>\n",
       "    </tr>\n",
       "  </tbody>\n",
       "</table>\n",
       "</div>"
      ],
      "text/plain": [
       "   userId  movieId\n",
       "0       1      588\n",
       "1       1     5581\n",
       "2       1     2055\n",
       "3       1     2862\n",
       "4       1     1219"
      ]
     },
     "execution_count": 16,
     "metadata": {},
     "output_type": "execute_result"
    }
   ],
   "source": [
    "user_data.head()"
   ]
  },
  {
   "cell_type": "code",
   "execution_count": 17,
   "metadata": {
    "collapsed": true
   },
   "outputs": [],
   "source": [
    "user_data = user_data.to_dict()"
   ]
  },
  {
   "cell_type": "code",
   "execution_count": 18,
   "metadata": {
    "collapsed": true
   },
   "outputs": [],
   "source": [
    "f = open('ml-20m/Training/train.csv','r')\n",
    "user_data = {}\n",
    "g = f.readlines()[1:]\n",
    "for l in g:\n",
    "#     print l.strip().split()\n",
    "    temp,user,item,rating = l.strip().split(',')\n",
    "    if int(user) not in user_data:\n",
    "        user_data[int(user)]= []\n",
    "    user_data[int(user)].append((int(item),float(rating)))"
   ]
  },
  {
   "cell_type": "code",
   "execution_count": 19,
   "metadata": {},
   "outputs": [
    {
     "name": "stdout",
     "output_type": "stream",
     "text": [
      "138493 [(588, 3.5), (5581, 3.5), (2055, 4.0), (2862, 3.5), (1219, 3.5), (7053, 3.5), (3391, 4.0), (6934, 3.5), (1293, 4.0), (1533, 3.5), (2560, 3.5), (1170, 3.5), (6725, 3.5), (3067, 4.0), (1213, 4.0), (251, 4.0), (6144, 3.5), (2874, 4.0), (3388, 3.5), (7276, 3.5), (2060, 4.0), (2915, 3.5), (7770, 4.0), (6393, 3.5), (1305, 4.0), (9754, 4.0), (7840, 3.5), (32, 3.5), (334, 3.5), (4944, 4.0), (3179, 3.5), (2944, 3.0), (7313, 4.0), (4945, 3.0), (7278, 4.0), (291, 4.0), (4133, 3.5), (5051, 3.5), (2, 3.5), (4373, 4.0), (8279, 4.0), (4931, 4.0), (4477, 4.0), (2458, 4.0), (1687, 3.5), (3904, 3.5), (5995, 4.0), (1231, 4.0), (4626, 3.5), (4885, 3.5), (7136, 3.5), (7954, 4.5), (1319, 3.5), (50, 3.5), (3903, 4.0), (1018, 4.0), (5800, 3.5), (1276, 3.0), (2787, 4.0), (646, 3.0), (1190, 4.0), (1766, 3.5), (1174, 4.5), (6698, 3.5), (5444, 4.0), (6645, 4.0), (111, 3.5), (2607, 3.5), (1177, 3.0), (4212, 4.0), (4783, 3.5), (1884, 4.0), (8008, 3.5), (2017, 4.0), (908, 3.5), (2676, 3.0), (6235, 4.0), (2110, 4.0), (2951, 3.5), (2563, 3.5), (1232, 4.0), (221, 4.0), (1264, 3.5), (1938, 4.0), (294, 4.0), (2883, 4.0), (5854, 5.0), (1239, 4.0), (4659, 4.0), (1216, 3.0), (4801, 4.0), (6646, 3.5), (2719, 3.5), (1479, 3.0), (538, 4.0), (1192, 3.5), (2207, 4.0), (5901, 3.5), (1068, 3.5), (4012, 3.5), (2579, 3.5), (3797, 4.0), (1321, 3.5), (1189, 4.0), (1058, 4.0)]\n"
     ]
    }
   ],
   "source": [
    "print len(user_data),user_data[1]\n",
    "# user_data = {k:(g['movieId'],g['rating']).tolist() for k,g in ratings.groupby('userId')}\n",
    "# x = ratings.apply(lambda x : reducer(x,user_data))\n",
    "#x.indices"
   ]
  },
  {
   "cell_type": "code",
   "execution_count": 20,
   "metadata": {
    "scrolled": false
   },
   "outputs": [
    {
     "name": "stderr",
     "output_type": "stream",
     "text": [
      "/Users/chintu/anaconda2/envs/personalization/lib/python2.7/site-packages/ipykernel_launcher.py:17: RuntimeWarning: overflow encountered in multiply\n"
     ]
    },
    {
     "name": "stdout",
     "output_type": "stream",
     "text": [
      "1000 0.0117821691036\n",
      "2000 0.0112584365606\n",
      "3000 0.0114681780338\n"
     ]
    },
    {
     "name": "stderr",
     "output_type": "stream",
     "text": [
      "/Users/chintu/anaconda2/envs/personalization/lib/python2.7/site-packages/ipykernel_launcher.py:20: RuntimeWarning: overflow encountered in multiply\n"
     ]
    },
    {
     "name": "stdout",
     "output_type": "stream",
     "text": [
      "4000 0.0119972477555\n",
      "5000 0.0121649264336\n",
      "6000 0.0119952795108\n",
      "7000 0.0118527944429\n",
      "8000 0.0117551471293\n",
      "9000 0.0118248900043\n",
      "10000 0.0119534815073\n",
      "11000 0.011989678643\n",
      "12000 0.0119355170131\n",
      "13000 0.0120065000057\n",
      "14000 0.0121193604299\n",
      "15000 0.0121212202708\n",
      "16000 0.0122393631935\n",
      "17000 0.0122273757177\n",
      "18000 0.0121772823334\n",
      "19000 0.012197513116\n",
      "20000 0.0121559924603\n",
      "21000 0.0121017998173\n",
      "22000 0.0121710520549\n",
      "23000 0.0122113916563\n",
      "24000 0.0122920549611\n",
      "25000 0.0123571107197\n",
      "26000 0.0123904999311\n",
      "27000 0.0124559637794\n",
      "28000 0.0125939522215\n",
      "29000 0.0125956075931\n",
      "30000 0.0126003099998\n",
      "31000 0.0125966317807\n",
      "32000 0.0125889295936\n",
      "33000 0.0126520103686\n",
      "34000 0.0126770302688\n",
      "35000 0.0128033093997\n",
      "36000 0.0128370800018\n",
      "37000 0.0128093903838\n",
      "38000 0.0127824481349\n",
      "39000 0.0127578072365\n",
      "40000 0.0127364674747\n",
      "41000 0.0127203374665\n",
      "42000 0.0127061439298\n",
      "43000 0.0127241212102\n",
      "44000 0.0127166610035\n",
      "45000 0.0126811184035\n",
      "46000 0.0126696614597\n",
      "47000 0.0126507212355\n",
      "48000 0.012617253979\n",
      "49000 0.0125969571045\n",
      "50000 0.0125712069798\n",
      "51000 0.0125642926085\n",
      "52000 0.0125555616159\n",
      "53000 0.0125655311324\n",
      "54000 0.0125340696132\n",
      "55000 0.0125262473843\n",
      "56000 0.0125180520032\n",
      "57000 0.0124788764067\n",
      "58000 0.0124531612766\n",
      "59000 0.0124213805441\n",
      "60000 0.0124057167172\n",
      "61000 0.0123784531179\n",
      "62000 0.0123639377932\n",
      "63000 0.0180001372383\n",
      "64000 0.0179461348616\n",
      "65000 0.0178558902777\n",
      "66000 0.0177644819419\n",
      "67000 0.0176892960926\n",
      "68000 0.0176174530001\n",
      "69000 0.0175866165368\n",
      "70000 0.0175295867886\n",
      "71000 0.0174628201001\n",
      "72000 0.0173911397788\n",
      "73000 0.0173147152058\n",
      "74000 0.0172322390144\n",
      "75000 0.017172787536\n",
      "76000 0.0171074944766\n",
      "77000 0.0170515806892\n",
      "78000 0.0169932289368\n",
      "79000 0.016933064165\n",
      "80000 0.0168685909897\n",
      "81000 0.0168130002728\n",
      "82000 0.0167569324272\n",
      "83000 0.0166917562169\n",
      "84000 0.0166306415371\n",
      "85000 0.0165785077768\n",
      "86000 0.0165256037684\n",
      "87000 0.0164937494157\n",
      "88000 0.0164527289217\n",
      "89000 0.0164149108656\n",
      "90000 0.016396645334\n",
      "91000 0.0163522081218\n",
      "92000 0.0163043898914\n",
      "93000 0.0162592539044\n",
      "94000 0.0162148364377\n",
      "95000 0.0161723640643\n",
      "96000 0.0161289767499\n",
      "97000 0.0160861070107\n",
      "98000 0.0160510298281\n",
      "99000 0.0160055395666\n",
      "100000 0.0159607628012\n",
      "101000 0.015922191863\n",
      "102000 0.0158846294623\n",
      "103000 0.0158482552339\n",
      "104000 0.0158189212405\n",
      "105000 0.0157721399148\n",
      "106000 0.0157298250851\n",
      "107000 0.0156930944028\n",
      "108000 0.015659564186\n",
      "109000 0.0156249710551\n",
      "110000 0.0155853064472\n",
      "111000 0.0155489518922\n",
      "112000 0.0155119101895\n",
      "113000 0.0154743405486\n",
      "114000 0.0154451004141\n",
      "115000 0.0154196854177\n",
      "116000 0.0153815060258\n",
      "117000 0.0153458853603\n",
      "118000 0.0153095259848\n",
      "119000 0.0152876817238\n",
      "120000 0.0152792278012\n",
      "121000 0.0152585203805\n",
      "122000 0.0152363932797\n",
      "123000 0.0152214227169\n",
      "124000 0.0151985591862\n",
      "125000 0.0151757564735\n",
      "126000 0.0151580393655\n",
      "127000 0.0151294572222\n",
      "128000 0.0151907591335\n",
      "129000 0.0151691210233\n",
      "130000 0.0151478517697\n",
      "131000 0.0151358553362\n",
      "132000 0.0151281298941\n",
      "133000 0.0151033759924\n",
      "134000 0.0150781595387\n",
      "135000 0.015062117015\n",
      "136000 0.0150391739204\n",
      "137000 0.0150200722635\n",
      "138000 0.0150011223624\n"
     ]
    }
   ],
   "source": [
    "c = 0\n",
    "temp = {}\n",
    "start = time.time()\n",
    "for user in user_data:\n",
    "    t = 0\n",
    "    c+=1\n",
    "    if c%1000==0:\n",
    "        end = time.time()\n",
    "        print c,(end-start)*1.0/c\n",
    "    for l in user_data[user]:\n",
    "        t+=1\n",
    "        if user not in temp:\n",
    "            temp[user] = (l[1] - user_mean[user])*np.array(movie_dict[l[0]])\n",
    "            temp[user] = np.multiply(weights_arr,temp[user])\n",
    "        else:\n",
    "            temp[user] += (l[1] - user_mean[user])*np.array(movie_dict[l[0]])\n",
    "            temp[user] = np.multiply(weights_arr,temp[user])\n",
    "            \n",
    "    temp[user] = temp[user]/t\n",
    "    temp[user] = temp[user].round(4)\n",
    "    temp[user] = list(temp[user])"
   ]
  },
  {
   "cell_type": "code",
   "execution_count": null,
   "metadata": {
    "collapsed": true
   },
   "outputs": [],
   "source": [
    "import time\n",
    "start = time.time()\n",
    "for i in range(0,ratings_length):\n",
    "    if i%10000==0 and i>0:\n",
    "        end = time.time()\n",
    "        print i,(end-start)*1.0/i\n",
    "    #start.append(timeit.timeit())\n",
    "    uid = ratings['userId'][i]\n",
    "    #print(type(uid))\n",
    "    #print(uid)\n",
    "    if uid not in user_profile_dict.keys():\n",
    "        user_profile_dict[uid] = (ratings['rating'][i] - user_mean[uid])*np.array(movie_dict[ratings['movieId'][i]]) \n",
    "        user_weights_denom[uid] = 1\n",
    "    else:\n",
    "        user_profile_dict[uid] = (ratings['rating'][i] - user_mean[uid])*np.array(movie_dict[ratings['movieId'][i]]) + user_profile_dict[uid]\n",
    "        user_weights_denom[uid] += 1\n",
    "    \n",
    "#     user_profile_dict[uid] = list(temp_array)\n",
    "    #end.append(timeit.timeit())    "
   ]
  },
  {
   "cell_type": "code",
   "execution_count": null,
   "metadata": {
    "collapsed": true
   },
   "outputs": [],
   "source": [
    "for i in user_profile_dict.keys():\n",
    "    user_profile_dict[i] = list(np.array(user_profile_dict[i]) / user_weights_denom[i])"
   ]
  },
  {
   "cell_type": "code",
   "execution_count": null,
   "metadata": {
    "collapsed": true
   },
   "outputs": [],
   "source": [
    "#end = time.clock()\n",
    "end1 = time.asctime()\n",
    "user_profile_dict\n",
    "len(user_profile_dict)"
   ]
  },
  {
   "cell_type": "code",
   "execution_count": 21,
   "metadata": {
    "collapsed": true
   },
   "outputs": [],
   "source": [
    "#end-start"
   ]
  },
  {
   "cell_type": "code",
   "execution_count": 22,
   "metadata": {},
   "outputs": [
    {
     "data": {
      "text/plain": [
       "'Tue Dec 12 12:08:05 2017'"
      ]
     },
     "execution_count": 22,
     "metadata": {},
     "output_type": "execute_result"
    }
   ],
   "source": [
    "start1"
   ]
  },
  {
   "cell_type": "code",
   "execution_count": 23,
   "metadata": {},
   "outputs": [
    {
     "data": {
      "text/plain": [
       "'Tue Dec 12 12:08:10 2017'"
      ]
     },
     "execution_count": 23,
     "metadata": {},
     "output_type": "execute_result"
    }
   ],
   "source": [
    "end1"
   ]
  },
  {
   "cell_type": "code",
   "execution_count": null,
   "metadata": {},
   "outputs": [],
   "source": [
    "# for l in temp:\n",
    "#     print temp[l]\n",
    "import sys\n",
    "print sys.getsizeof(temp)"
   ]
  },
  {
   "cell_type": "code",
   "execution_count": 25,
   "metadata": {
    "collapsed": true
   },
   "outputs": [],
   "source": [
    "start2 = time.asctime()"
   ]
  },
  {
   "cell_type": "code",
   "execution_count": null,
   "metadata": {
    "collapsed": true
   },
   "outputs": [],
   "source": [
    "pickle_out3 = open(\"user_profiles_g_2_a_1_d_1_r_2.pickle\", \"wb\")\n",
    "pickle.dump(temp, pickle_out3)\n",
    "pickle_out3.close()"
   ]
  },
  {
   "cell_type": "code",
   "execution_count": 27,
   "metadata": {
    "collapsed": true
   },
   "outputs": [],
   "source": [
    "end2 = time.asctime()"
   ]
  },
  {
   "cell_type": "code",
   "execution_count": 28,
   "metadata": {},
   "outputs": [
    {
     "data": {
      "text/plain": [
       "'Tue Dec 12 12:08:31 2017'"
      ]
     },
     "execution_count": 28,
     "metadata": {},
     "output_type": "execute_result"
    }
   ],
   "source": [
    "start2\n",
    "end2"
   ]
  },
  {
   "cell_type": "code",
   "execution_count": 29,
   "metadata": {},
   "outputs": [
    {
     "data": {
      "text/plain": [
       "-0.049000000000000099"
      ]
     },
     "execution_count": 29,
     "metadata": {},
     "output_type": "execute_result"
    }
   ],
   "source": [
    "user_profile_dict[1][-1]"
   ]
  },
  {
   "cell_type": "code",
   "execution_count": null,
   "metadata": {
    "collapsed": true
   },
   "outputs": [],
   "source": []
  },
  {
   "cell_type": "code",
   "execution_count": null,
   "metadata": {
    "collapsed": true
   },
   "outputs": [],
   "source": [
    "\n"
   ]
  },
  {
   "cell_type": "code",
   "execution_count": null,
   "metadata": {
    "collapsed": true
   },
   "outputs": [],
   "source": []
  },
  {
   "cell_type": "code",
   "execution_count": null,
   "metadata": {
    "collapsed": true
   },
   "outputs": [],
   "source": []
  },
  {
   "cell_type": "code",
   "execution_count": null,
   "metadata": {
    "collapsed": true
   },
   "outputs": [],
   "source": []
  },
  {
   "cell_type": "code",
   "execution_count": null,
   "metadata": {
    "collapsed": true
   },
   "outputs": [],
   "source": []
  },
  {
   "cell_type": "code",
   "execution_count": null,
   "metadata": {
    "collapsed": true
   },
   "outputs": [],
   "source": []
  }
 ],
 "metadata": {
  "kernelspec": {
   "display_name": "Python 2",
   "language": "python",
   "name": "python2"
  },
  "language_info": {
   "codemirror_mode": {
    "name": "ipython",
    "version": 2
   },
   "file_extension": ".py",
   "mimetype": "text/x-python",
   "name": "python",
   "nbconvert_exporter": "python",
   "pygments_lexer": "ipython2",
   "version": "2.7.13"
  }
 },
 "nbformat": 4,
 "nbformat_minor": 2
}
